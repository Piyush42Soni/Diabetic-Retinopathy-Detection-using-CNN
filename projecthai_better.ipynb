{
  "cells": [
    {
      "cell_type": "code",
      "execution_count": 5,
      "metadata": {
        "id": "OuPC_bJMS6Ff"
      },
      "outputs": [],
      "source": [
        "import tensorflow as tf                                     #import required libraries\n",
        "import os\n",
        "import matplotlib.pyplot as plt\n",
        "import numpy as np\n",
        "import logging\n",
        "import cv2\n",
        "from sklearn.preprocessing import StandardScaler"
      ]
    },
    {
      "cell_type": "markdown",
      "metadata": {
        "id": "BL2ycWTOpuJx"
      },
      "source": [
        "# Load Images and convert into NP Array"
      ]
    },
    {
      "cell_type": "code",
      "execution_count": 6,
      "metadata": {
        "id": "vuxyK1oYTHqe"
      },
      "outputs": [],
      "source": [
        "import os\n",
        "from PIL import Image\n",
        "folder_path =  r\"/content/drive/MyDrive/SAUNAR\"                 # location of data folder\n",
        "y=[]    #output\n",
        "X=[]    #input\n",
        "c=0\n",
        "for fldr in os.listdir(folder_path):                            #open folder\n",
        "    sub_folder_path = os.path.join(folder_path, fldr)\n",
        "    for filee in os.listdir(sub_folder_path):                   #open subfolders\n",
        "        file_path = os.path.join(sub_folder_path, filee)\n",
        "        # print('** Path: {}  **'.format(file_path), end=\"\\r\", flush=True)\n",
        "        im = Image.open(file_path)                              #open image\n",
        "        # im = im.resize((256,256),Image.ANTIALIAS)               #resize image to (256 X 256 pixels)\n",
        "        # rgb_im = im.convert('RGB')                              #convert format to RGB\n",
        "        # rgb_im.save(file_path)\n",
        "        array = np.array(tf.keras.utils.img_to_array(im))   #convert image to array\n",
        "        if(c==0 or c==1):\n",
        "            y.append(0)                                         #first and second subfolder contains data for no Diabetic retinopathy\n",
        "        else:\n",
        "            y.append(1)                                         #other contains data for Diabetic retinopathy eye\n",
        "        X.append((array)/255)\n",
        "    c+=1\n",
        "X=np.stack(X)                                                   #convert list to NP array\n",
        "y=np.stack(y)"
      ]
    },
    {
      "cell_type": "code",
      "execution_count": 3,
      "metadata": {
        "colab": {
          "base_uri": "https://localhost:8080/"
        },
        "id": "4Ye1pT_Dp9PE",
        "outputId": "cd1be180-cca4-4ea0-a3aa-ee9a38c55ebe"
      },
      "outputs": [
        {
          "name": "stdout",
          "output_type": "stream",
          "text": [
            "Mounted at /content/drive\n"
          ]
        }
      ],
      "source": [
        "from google.colab import drive\n",
        "drive.mount('/content/drive')"
      ]
    },
    {
      "cell_type": "markdown",
      "metadata": {
        "id": "Lbzq8arHpuJz"
      },
      "source": [
        "## Oversampling using SMOTE\n",
        "#### Oversampling is an process of Duplicating samples from the minority class till it becomes equal to majority class\n",
        "#### SMOTE is an technique for oversampling in which we use K nearest neighbour method for oversampling\n",
        "#### In our example we have 703 images of presence of Diabetic retinopathy and 3727 images of not present"
      ]
    },
    {
      "cell_type": "code",
      "execution_count": 7,
      "metadata": {
        "id": "s-bLseJyuN31"
      },
      "outputs": [],
      "source": [
        "dataForSmote = X.reshape(X.shape[0],X.shape[1]*X.shape[2]*X.shape[3])   # Convert data shape from 4D to 2D \n",
        "scaler = StandardScaler(with_mean=False,with_std=False)                 # Data scaling (mean ==0 and var==1)\n",
        "dataForSmote = scaler.fit_transform(dataForSmote)                       \n",
        "from imblearn.over_sampling import SMOTE\n",
        "smote = SMOTE(sampling_strategy='minority')                             #oversample minority data (y==1)\n",
        "oversample = SMOTE()\n",
        "X_sm, y_sm = smote.fit_resample(dataForSmote, y)\n",
        "X_sm = X_sm.reshape(X_sm.shape[0],X.shape[1],X.shape[2],X.shape[3])     #again reshape data in its original form"
      ]
    },
    {
      "cell_type": "code",
      "execution_count": 8,
      "metadata": {
        "colab": {
          "base_uri": "https://localhost:8080/"
        },
        "id": "u4eHWHgH6j0C",
        "outputId": "d0379602-1d74-4671-b867-f3859f252b64"
      },
      "outputs": [
        {
          "name": "stdout",
          "output_type": "stream",
          "text": [
            "0.22369617\n",
            "4186\n",
            "4430\n",
            "(4430, 256, 256, 3)\n"
          ]
        },
        {
          "data": {
            "text/plain": [
              "(4430,)"
            ]
          },
          "execution_count": 8,
          "metadata": {},
          "output_type": "execute_result"
        }
      ],
      "source": [
        "print((X[0]).mean())                                                    \n",
        "print(np.count_nonzero(y))\n",
        "print(np.size(y))\n",
        "print(X.shape)\n",
        "y.shape"
      ]
    },
    {
      "cell_type": "code",
      "execution_count": 9,
      "metadata": {
        "id": "cqIZZ9zb6j0C"
      },
      "outputs": [],
      "source": [
        "data_augmentation = tf.keras.Sequential([                             #Data Augmentation for better accuracy\n",
        "  tf.keras.layers.RandomFlip(\"horizontal\"),                           #horizontally flips data\n",
        "  tf.keras.layers.RandomRotation(0.2),                                #randomly rotates 20% of training data\n",
        "])"
      ]
    },
    {
      "cell_type": "code",
      "execution_count": 10,
      "metadata": {
        "colab": {
          "base_uri": "https://localhost:8080/"
        },
        "id": "GvBKNSRW6j0C",
        "outputId": "70364795-fd22-4b16-c4bc-14753b27f28f"
      },
      "outputs": [
        {
          "data": {
            "text/plain": [
              "(6697, 256, 256, 3)"
            ]
          },
          "execution_count": 10,
          "metadata": {},
          "output_type": "execute_result"
        }
      ],
      "source": [
        "from sklearn.model_selection import train_test_split                #splitting data into training and testing in ratio 8:2\n",
        "X_train, X_test, y_train, y_test = train_test_split(X_sm, y_sm, test_size=0.2, random_state=15, stratify=y_sm)\n",
        "X_train.shape"
      ]
    },
    {
      "cell_type": "code",
      "execution_count": 11,
      "metadata": {
        "colab": {
          "base_uri": "https://localhost:8080/"
        },
        "id": "8wnJtJXQRBxi",
        "outputId": "30c740cc-5461-4367-80b2-76cb68ae9a9b"
      },
      "outputs": [
        {
          "name": "stdout",
          "output_type": "stream",
          "text": [
            "(6697, 256, 256, 3)\n",
            "3349\n"
          ]
        }
      ],
      "source": [
        "print(X_train.shape)\n",
        "print(np.count_nonzero(y_train))"
      ]
    },
    {
      "attachments": {},
      "cell_type": "markdown",
      "metadata": {
        "id": "dRrQvwCipuJ2"
      },
      "source": [
        "## Creating and Training the CNN Model\n",
        "#### i have used 3 layer CNN model because CNN is the best image classifier model"
      ]
    },
    {
      "cell_type": "code",
      "execution_count": 13,
      "metadata": {
        "id": "pl49ws4Z6j0D"
      },
      "outputs": [],
      "source": [
        "import tensorflow as tf\n",
        "initializer=tf.random_normal_initializer(mean=0.0, stddev=0.0, seed=None)       #implimenting normal initializer\n",
        "cnn= tf.keras.models.Sequential([\n",
        "    data_augmentation,\n",
        "    tf.keras.layers.Conv2D(filters=32, kernel_size=(3, 3), activation='relu'),   #1st convolution layer\n",
        "    tf.keras.layers.MaxPooling2D((2, 2)),\n",
        "    \n",
        "    tf.keras.layers.Conv2D(filters=64, kernel_size=(3, 3), activation='relu'),                              #2ed convolution layer\n",
        "    tf.keras.layers.MaxPooling2D((2, 2)),\n",
        "    \n",
        "    tf.keras.layers.Conv2D(filters=128, kernel_size=(3, 3), activation='relu'),                             #3rd convolution layer\n",
        "    tf.keras.layers.MaxPooling2D((2, 2)), \n",
        "\n",
        "    tf.keras.layers.Flatten(),\n",
        "    tf.keras.layers.Dense(640, activation='relu'),                                                          #ANN layer\n",
        "    tf.keras.layers.Dropout(0.5),                                                                           #Dropout for preventing overfitting\n",
        "    tf.keras.layers.Dense(1, activation='sigmoid')                                                          #sigmoid activation function for binary classification\n",
        "])"
      ]
    },
    {
      "cell_type": "code",
      "execution_count": 14,
      "metadata": {
        "id": "k5W3xUz06j0D"
      },
      "outputs": [],
      "source": [
        "cnn.compile(optimizer='adam',           #adam optimization technique is used here \n",
        "              loss='BinaryCrossentropy',    #Binary Crossentropy as loss function\n",
        "              metrics=['accuracy'])         #accuracy is the metrics for model"
      ]
    },
    {
      "cell_type": "code",
      "execution_count": 15,
      "metadata": {
        "colab": {
          "base_uri": "https://localhost:8080/"
        },
        "id": "y5hXXABs6j0D",
        "outputId": "840286aa-710a-43ad-d6cd-41f38b301611"
      },
      "outputs": [
        {
          "name": "stdout",
          "output_type": "stream",
          "text": [
            "Epoch 1/30\n",
            "210/210 [==============================] - 17s 19ms/step - loss: 0.7189 - accuracy: 0.5055\n",
            "Epoch 2/30\n",
            "210/210 [==============================] - 4s 18ms/step - loss: 0.6913 - accuracy: 0.5261\n",
            "Epoch 3/30\n",
            "210/210 [==============================] - 4s 18ms/step - loss: 0.6774 - accuracy: 0.5676\n",
            "Epoch 4/30\n",
            "210/210 [==============================] - 4s 18ms/step - loss: 0.6712 - accuracy: 0.5806\n",
            "Epoch 5/30\n",
            "210/210 [==============================] - 4s 18ms/step - loss: 0.6404 - accuracy: 0.6209\n",
            "Epoch 6/30\n",
            "210/210 [==============================] - 4s 18ms/step - loss: 0.6275 - accuracy: 0.6327\n",
            "Epoch 7/30\n",
            "210/210 [==============================] - 4s 18ms/step - loss: 0.6155 - accuracy: 0.6484\n",
            "Epoch 8/30\n",
            "210/210 [==============================] - 4s 18ms/step - loss: 0.5509 - accuracy: 0.7129\n",
            "Epoch 9/30\n",
            "210/210 [==============================] - 4s 18ms/step - loss: 0.4602 - accuracy: 0.7808\n",
            "Epoch 10/30\n",
            "210/210 [==============================] - 4s 18ms/step - loss: 0.3401 - accuracy: 0.8502\n",
            "Epoch 11/30\n",
            "210/210 [==============================] - 4s 18ms/step - loss: 0.2353 - accuracy: 0.9074\n",
            "Epoch 12/30\n",
            "210/210 [==============================] - 4s 18ms/step - loss: 0.1712 - accuracy: 0.9352\n",
            "Epoch 13/30\n",
            "210/210 [==============================] - 4s 18ms/step - loss: 0.1264 - accuracy: 0.9510\n",
            "Epoch 14/30\n",
            "210/210 [==============================] - 4s 18ms/step - loss: 0.0852 - accuracy: 0.9688\n",
            "Epoch 15/30\n",
            "210/210 [==============================] - 4s 18ms/step - loss: 0.0698 - accuracy: 0.9769\n",
            "Epoch 16/30\n",
            "210/210 [==============================] - 4s 18ms/step - loss: 0.0426 - accuracy: 0.9854\n",
            "Epoch 17/30\n",
            "210/210 [==============================] - 4s 18ms/step - loss: 0.0319 - accuracy: 0.9903\n",
            "Epoch 18/30\n",
            "210/210 [==============================] - 4s 18ms/step - loss: 0.0380 - accuracy: 0.9879\n",
            "Epoch 19/30\n",
            "210/210 [==============================] - 4s 18ms/step - loss: 0.0215 - accuracy: 0.9925\n",
            "Epoch 20/30\n",
            "210/210 [==============================] - 4s 18ms/step - loss: 0.0163 - accuracy: 0.9952\n",
            "Epoch 21/30\n",
            "210/210 [==============================] - 4s 18ms/step - loss: 0.0246 - accuracy: 0.9931\n",
            "Epoch 22/30\n",
            "210/210 [==============================] - 4s 18ms/step - loss: 0.0345 - accuracy: 0.9876\n",
            "Epoch 23/30\n",
            "210/210 [==============================] - 4s 18ms/step - loss: 0.0192 - accuracy: 0.9943\n",
            "Epoch 24/30\n",
            "210/210 [==============================] - 4s 18ms/step - loss: 0.0242 - accuracy: 0.9919\n",
            "Epoch 25/30\n",
            "210/210 [==============================] - 4s 18ms/step - loss: 0.0150 - accuracy: 0.9955\n",
            "Epoch 26/30\n",
            "210/210 [==============================] - 4s 18ms/step - loss: 0.0065 - accuracy: 0.9984\n",
            "Epoch 27/30\n",
            "210/210 [==============================] - 4s 18ms/step - loss: 0.0030 - accuracy: 0.9994\n",
            "Epoch 28/30\n",
            "210/210 [==============================] - 4s 18ms/step - loss: 0.0045 - accuracy: 0.9979\n",
            "Epoch 29/30\n",
            "210/210 [==============================] - 4s 18ms/step - loss: 0.0132 - accuracy: 0.9958\n",
            "Epoch 30/30\n",
            "210/210 [==============================] - 4s 18ms/step - loss: 0.0088 - accuracy: 0.9967\n"
          ]
        },
        {
          "data": {
            "text/plain": [
              "<keras.callbacks.History at 0x7fd9eb14a940>"
            ]
          },
          "execution_count": 15,
          "metadata": {},
          "output_type": "execute_result"
        }
      ],
      "source": [
        "cnn.fit(X_train, y_train, epochs=30)        #fitting the training data into the model"
      ]
    },
    {
      "attachments": {},
      "cell_type": "markdown",
      "metadata": {
        "id": "vYaGBwXcpuJ3"
      },
      "source": [
        "## Model Evaluation (average of 10 trials)\n",
        "##### average accuracy on test data is 98.04%\n",
        "##### f1 score of 0.985\n",
        "##### precision for output 1 is 1.00\n",
        "##### precision for output 0 is 0.97\n",
        "##### recall for output 0 is 1.00\n",
        "##### recall for output 1 is 0.97\n",
        "##### sensitivity is 1"
      ]
    },
    {
      "cell_type": "code",
      "execution_count": 16,
      "metadata": {
        "colab": {
          "base_uri": "https://localhost:8080/"
        },
        "id": "P2U_b0NG6j0E",
        "outputId": "e02bfc13-31c6-4abc-ea02-f0313899e1d2"
      },
      "outputs": [
        {
          "name": "stdout",
          "output_type": "stream",
          "text": [
            "53/53 [==============================] - 1s 11ms/step - loss: 0.0947 - accuracy: 0.9785\n"
          ]
        },
        {
          "data": {
            "text/plain": [
              "[0.09471265226602554, 0.9785074591636658]"
            ]
          },
          "execution_count": 16,
          "metadata": {},
          "output_type": "execute_result"
        }
      ],
      "source": [
        "cnn.evaluate(X_test,y_test)         #99.04% accuracy on test data"
      ]
    },
    {
      "cell_type": "code",
      "execution_count": 17,
      "metadata": {
        "colab": {
          "base_uri": "https://localhost:8080/"
        },
        "id": "ezoGz8tFaXXY",
        "outputId": "680c542b-1643-4bb1-8062-465bff752f91"
      },
      "outputs": [
        {
          "name": "stdout",
          "output_type": "stream",
          "text": [
            "53/53 [==============================] - 1s 9ms/step\n"
          ]
        },
        {
          "data": {
            "text/plain": [
              "array([[1.0000000e+00],\n",
              "       [1.0050382e-08],\n",
              "       [9.9999988e-01],\n",
              "       [9.9980634e-01],\n",
              "       [7.3011358e-07]], dtype=float32)"
            ]
          },
          "execution_count": 17,
          "metadata": {},
          "output_type": "execute_result"
        }
      ],
      "source": [
        "y_pred = cnn.predict(X_test)        #generates predicted output\n",
        "y_pred[:5]"
      ]
    },
    {
      "cell_type": "code",
      "execution_count": 18,
      "metadata": {
        "colab": {
          "base_uri": "https://localhost:8080/"
        },
        "id": "5P6_NtsG6j0F",
        "outputId": "c14de068-a394-4cdc-c04d-4296574a056a"
      },
      "outputs": [
        {
          "data": {
            "text/plain": [
              "array([1., 0., 1., ..., 0., 0., 0.], dtype=float32)"
            ]
          },
          "execution_count": 18,
          "metadata": {},
          "output_type": "execute_result"
        }
      ],
      "source": [
        "y_classes =np.round(y_pred)     #round off predictions to 0 and 1\n",
        "y_classes[:5]\n",
        "y_classes.flatten()"
      ]
    },
    {
      "cell_type": "code",
      "execution_count": 19,
      "metadata": {
        "colab": {
          "base_uri": "https://localhost:8080/"
        },
        "id": "38Zv38EM6j0F",
        "outputId": "5793ed2b-d19e-45f0-9368-46ee92901f92"
      },
      "outputs": [
        {
          "data": {
            "text/plain": [
              "array([1, 0, 1, 1, 0])"
            ]
          },
          "execution_count": 19,
          "metadata": {},
          "output_type": "execute_result"
        }
      ],
      "source": [
        "y_test[:5]"
      ]
    },
    {
      "cell_type": "code",
      "execution_count": 20,
      "metadata": {
        "colab": {
          "base_uri": "https://localhost:8080/",
          "height": 174
        },
        "id": "c9IYDRMz63p4",
        "outputId": "ab06c3c2-0201-4938-9291-de3ac86ebad6"
      },
      "outputs": [
        {
          "data": {
            "image/png": "[encoded data removed]",
            "text/plain": [
              "<Figure size 1080x144 with 1 Axes>"
            ]
          },
          "metadata": {
            "needs_background": "light"
          },
          "output_type": "display_data"
        }
      ],
      "source": [
        "def plot_sample(X, y, index):\n",
        "    plt.figure(figsize = (15,2))\n",
        "    plt.imshow(X[index])\n",
        "    plt.xlabel(y[index])\n",
        "plot_sample(X_test, y_test,3)   #plots test data with index 3 "
      ]
    },
    {
      "cell_type": "code",
      "execution_count": 21,
      "metadata": {
        "colab": {
          "base_uri": "https://localhost:8080/"
        },
        "id": "MVtKOA896j0G",
        "outputId": "3f5fa429-68be-407d-9bc2-acdaabd05732"
      },
      "outputs": [
        {
          "name": "stdout",
          "output_type": "stream",
          "text": [
            "              precision    recall  f1-score   support\n",
            "\n",
            "           0       0.96      1.00      0.98       838\n",
            "           1       1.00      0.96      0.98       837\n",
            "\n",
            "    accuracy                           0.98      1675\n",
            "   macro avg       0.98      0.98      0.98      1675\n",
            "weighted avg       0.98      0.98      0.98      1675\n",
            "\n"
          ]
        }
      ],
      "source": [
        "from sklearn.metrics import confusion_matrix , classification_report    #classification report provides precision, recall and f1-score\n",
        "print(classification_report(y_test,y_classes))"
      ]
    },
    {
      "cell_type": "code",
      "execution_count": 22,
      "metadata": {
        "colab": {
          "base_uri": "https://localhost:8080/",
          "height": 459
        },
        "id": "eyM-RWN-6j0G",
        "outputId": "68a33870-c865-4c90-c33a-2629a4854f8b"
      },
      "outputs": [
        {
          "data": {
            "text/plain": [
              "Text(69.0, 0.5, 'Truth')"
            ]
          },
          "execution_count": 22,
          "metadata": {},
          "output_type": "execute_result"
        },
        {
          "data": {
            "image/png": "[encoded data removed]",
            "text/plain": [
              "<Figure size 720x504 with 2 Axes>"
            ]
          },
          "metadata": {
            "needs_background": "light"
          },
          "output_type": "display_data"
        }
      ],
      "source": [
        "import seaborn as sn\n",
        "cm = tf.math.confusion_matrix(labels=y_test,predictions=y_classes)              #confusion matrix for better representation seaborn is used\n",
        "\n",
        "plt.figure(figsize = (10,7))\n",
        "sn.heatmap(cm, annot=True, fmt='d')\n",
        "plt.xlabel('Predicted')\n",
        "plt.ylabel('Truth')"
      ]
    },
    {
      "cell_type": "markdown",
      "metadata": {
        "id": "aoFKbFR9puJ5"
      },
      "source": [
        "## ROC curve"
      ]
    },
    {
      "cell_type": "code",
      "execution_count": 23,
      "metadata": {
        "id": "FwsgpyZ8jOhe"
      },
      "outputs": [],
      "source": [
        "from sklearn.metrics import roc_curve, roc_auc_score        #plotting ROC Curve\n",
        "r_fpr, r_tpr, _ = roc_curve(y_test, y_classes)"
      ]
    },
    {
      "cell_type": "code",
      "execution_count": 24,
      "metadata": {
        "colab": {
          "base_uri": "https://localhost:8080/",
          "height": 282
        },
        "id": "CYR2_kLikFPM",
        "outputId": "2048a19a-df3f-480c-d691-a1ee330f6b72"
      },
      "outputs": [
        {
          "data": {
            "text/plain": [
              "[<matplotlib.lines.Line2D at 0x7fd9c465b7c0>]"
            ]
          },
          "execution_count": 24,
          "metadata": {},
          "output_type": "execute_result"
        },
        {
          "data": {
            "image/png": "[encoded data removed]",
            "text/plain": [
              "<Figure size 432x288 with 1 Axes>"
            ]
          },
          "metadata": {
            "needs_background": "light"
          },
          "output_type": "display_data"
        }
      ],
      "source": [
        "import matplotlib.pyplot as plt\n",
        "plt.plot(r_fpr, r_tpr, linestyle='--')"
      ]
    },
    {
      "cell_type": "code",
      "execution_count": 25,
      "metadata": {
        "colab": {
          "base_uri": "https://localhost:8080/"
        },
        "id": "Xu5GDx3AlAEy",
        "outputId": "b2189682-e482-46ca-d3ee-e69edbbac2ca"
      },
      "outputs": [
        {
          "data": {
            "text/plain": [
              "1.0"
            ]
          },
          "execution_count": 25,
          "metadata": {},
          "output_type": "execute_result"
        }
      ],
      "source": [
        "m = tf.keras.metrics.SpecificityAtSensitivity(0.5)      #sensitivity is one\n",
        "m.update_state(y_test, y_pred)\n",
        "m.result().numpy()"
      ]
    },
    {
      "attachments": {},
      "cell_type": "markdown",
      "metadata": {},
      "source": [
        "## Creating and Training the ANN Model\n",
        "#### i have used 3 layer ANN model to compare with my CNN model"
      ]
    },
    {
      "cell_type": "code",
      "execution_count": 23,
      "metadata": {
        "id": "A0vsivTtrL6L"
      },
      "outputs": [],
      "source": [
        "import tensorflow as tf\n",
        "initializer=tf.random_normal_initializer(mean=0.0, stddev=0.0, seed=None)       #implimenting normal initializer\n",
        "ann= tf.keras.models.Sequential([\n",
        "    tf.keras.layers.Flatten(),\n",
        "    tf.keras.layers.Dense(640, activation='relu'),                                                          #ANN layer\n",
        "    tf.keras.layers.Dropout(0.5),\n",
        "    tf.keras.layers.Dense(200, activation='relu'),                                                          #ANN layer\n",
        "    tf.keras.layers.Dropout(0.5),                                                                                  #Dropout for preventing overfitting\n",
        "    tf.keras.layers.Dense(1, activation='sigmoid')                                                          #sigmoid activation function for binary classification\n",
        "])"
      ]
    },
    {
      "cell_type": "code",
      "execution_count": 24,
      "metadata": {
        "id": "E2jnktsJreta"
      },
      "outputs": [],
      "source": [
        "ann.compile(optimizer='adam',           #adam optimization technique is used here \n",
        "              loss='BinaryCrossentropy',    #Binary Crossentropy as loss function\n",
        "              metrics=['accuracy'])         #accuracy is the metrics for model"
      ]
    },
    {
      "cell_type": "code",
      "execution_count": 25,
      "metadata": {
        "colab": {
          "base_uri": "https://localhost:8080/"
        },
        "id": "eD52cw0Mrjfd",
        "outputId": "d303a6d1-2636-4a98-9c8a-2935a0569e77"
      },
      "outputs": [
        {
          "name": "stdout",
          "output_type": "stream",
          "text": [
            "Epoch 1/30\n",
            "210/210 [==============================] - 4s 12ms/step - loss: 7.3345 - accuracy: 0.4974\n",
            "Epoch 2/30\n",
            "210/210 [==============================] - 3s 12ms/step - loss: 0.6933 - accuracy: 0.4999\n",
            "Epoch 3/30\n",
            "210/210 [==============================] - 3s 12ms/step - loss: 0.6932 - accuracy: 0.4999\n",
            "Epoch 4/30\n",
            "210/210 [==============================] - 3s 12ms/step - loss: 0.6932 - accuracy: 0.5032\n",
            "Epoch 5/30\n",
            "210/210 [==============================] - 3s 12ms/step - loss: 0.7009 - accuracy: 0.4914\n",
            "Epoch 6/30\n",
            "210/210 [==============================] - 3s 12ms/step - loss: 0.6932 - accuracy: 0.4920\n",
            "Epoch 7/30\n",
            "210/210 [==============================] - 3s 12ms/step - loss: 0.6932 - accuracy: 0.4822\n",
            "Epoch 8/30\n",
            "210/210 [==============================] - 3s 12ms/step - loss: 0.6932 - accuracy: 0.5013\n",
            "Epoch 9/30\n",
            "210/210 [==============================] - 3s 12ms/step - loss: 0.6932 - accuracy: 0.5053\n",
            "Epoch 10/30\n",
            "210/210 [==============================] - 3s 12ms/step - loss: 0.6932 - accuracy: 0.4957\n",
            "Epoch 11/30\n",
            "210/210 [==============================] - 3s 12ms/step - loss: 0.6932 - accuracy: 0.5052\n",
            "Epoch 12/30\n",
            "210/210 [==============================] - 3s 12ms/step - loss: 0.6932 - accuracy: 0.4995\n",
            "Epoch 13/30\n",
            "210/210 [==============================] - 3s 12ms/step - loss: 0.6932 - accuracy: 0.5040\n",
            "Epoch 14/30\n",
            "210/210 [==============================] - 3s 12ms/step - loss: 0.6932 - accuracy: 0.4969\n",
            "Epoch 15/30\n",
            "210/210 [==============================] - 3s 12ms/step - loss: 0.6932 - accuracy: 0.4996\n",
            "Epoch 16/30\n",
            "210/210 [==============================] - 3s 12ms/step - loss: 0.6932 - accuracy: 0.4931\n",
            "Epoch 17/30\n",
            "210/210 [==============================] - 3s 12ms/step - loss: 0.6932 - accuracy: 0.4986\n",
            "Epoch 18/30\n",
            "210/210 [==============================] - 3s 12ms/step - loss: 0.6932 - accuracy: 0.4972\n",
            "Epoch 19/30\n",
            "210/210 [==============================] - 3s 12ms/step - loss: 0.6932 - accuracy: 0.4925\n",
            "Epoch 20/30\n",
            "210/210 [==============================] - 3s 12ms/step - loss: 0.6932 - accuracy: 0.4962\n",
            "Epoch 21/30\n",
            "210/210 [==============================] - 3s 12ms/step - loss: 0.6933 - accuracy: 0.5010\n",
            "Epoch 22/30\n",
            "210/210 [==============================] - 3s 12ms/step - loss: 0.6932 - accuracy: 0.4920\n",
            "Epoch 23/30\n",
            "210/210 [==============================] - 3s 12ms/step - loss: 0.6931 - accuracy: 0.5053\n",
            "Epoch 24/30\n",
            "210/210 [==============================] - 3s 12ms/step - loss: 0.6932 - accuracy: 0.4975\n",
            "Epoch 25/30\n",
            "210/210 [==============================] - 3s 12ms/step - loss: 0.6932 - accuracy: 0.4962\n",
            "Epoch 26/30\n",
            "210/210 [==============================] - 3s 12ms/step - loss: 0.6932 - accuracy: 0.4945\n",
            "Epoch 27/30\n",
            "210/210 [==============================] - 3s 12ms/step - loss: 0.6932 - accuracy: 0.4981\n",
            "Epoch 28/30\n",
            "210/210 [==============================] - 3s 12ms/step - loss: 0.6932 - accuracy: 0.4963\n",
            "Epoch 29/30\n",
            "210/210 [==============================] - 3s 12ms/step - loss: 0.6932 - accuracy: 0.5017\n",
            "Epoch 30/30\n",
            "210/210 [==============================] - 3s 12ms/step - loss: 0.6932 - accuracy: 0.4984\n"
          ]
        },
        {
          "data": {
            "text/plain": [
              "<keras.callbacks.History at 0x7fd7d03e32b0>"
            ]
          },
          "execution_count": 25,
          "metadata": {},
          "output_type": "execute_result"
        }
      ],
      "source": [
        "ann.fit(X_train, y_train, epochs=30)   "
      ]
    },
    {
      "cell_type": "code",
      "execution_count": 26,
      "metadata": {
        "colab": {
          "base_uri": "https://localhost:8080/"
        },
        "id": "b35ikgmJtx_L",
        "outputId": "d0f8ec73-f6bf-4a35-f418-12614cf665ba"
      },
      "outputs": [
        {
          "name": "stdout",
          "output_type": "stream",
          "text": [
            "53/53 [==============================] - 1s 8ms/step - loss: 0.6931 - accuracy: 0.4985\n"
          ]
        },
        {
          "data": {
            "text/plain": [
              "[0.6931476593017578, 0.49850746989250183]"
            ]
          },
          "execution_count": 26,
          "metadata": {},
          "output_type": "execute_result"
        }
      ],
      "source": [
        "ann.evaluate(X_test,y_test) #testing accuracy is around 0.498"
      ]
    },
    {
      "cell_type": "code",
      "execution_count": 27,
      "metadata": {
        "colab": {
          "base_uri": "https://localhost:8080/"
        },
        "id": "qhjwcZ5Yt08K",
        "outputId": "e88d2db5-7628-4fa1-8659-828db612d2ff"
      },
      "outputs": [
        {
          "name": "stdout",
          "output_type": "stream",
          "text": [
            "53/53 [==============================] - 0s 8ms/step\n"
          ]
        },
        {
          "data": {
            "text/plain": [
              "array([[0.5000509],\n",
              "       [0.5000509],\n",
              "       [0.5000509],\n",
              "       [0.5000509],\n",
              "       [0.5000509]], dtype=float32)"
            ]
          },
          "execution_count": 27,
          "metadata": {},
          "output_type": "execute_result"
        }
      ],
      "source": [
        "y_pred = ann.predict(X_test)        #generates predicted output\n",
        "y_pred[:5]"
      ]
    },
    {
      "cell_type": "code",
      "execution_count": 28,
      "metadata": {
        "colab": {
          "base_uri": "https://localhost:8080/"
        },
        "id": "hTbCdxpst3Fq",
        "outputId": "ceff73d9-9271-4e97-bc86-f6fcc05793bd"
      },
      "outputs": [
        {
          "data": {
            "text/plain": [
              "array([1., 1., 1., ..., 1., 1., 1.], dtype=float32)"
            ]
          },
          "execution_count": 28,
          "metadata": {},
          "output_type": "execute_result"
        }
      ],
      "source": [
        "y_classes =np.round(y_pred)     #round off predictions to 0 and 1\n",
        "y_classes[:5]\n",
        "y_classes.flatten()"
      ]
    },
    {
      "cell_type": "code",
      "execution_count": 29,
      "metadata": {
        "colab": {
          "base_uri": "https://localhost:8080/"
        },
        "id": "D0aF-cW0t6N7",
        "outputId": "b3675ffe-422f-4971-b801-0cdcbdaa4df1"
      },
      "outputs": [
        {
          "data": {
            "text/plain": [
              "array([1, 0, 1, 1, 0])"
            ]
          },
          "execution_count": 29,
          "metadata": {},
          "output_type": "execute_result"
        }
      ],
      "source": [
        "y_test[:5]"
      ]
    },
    {
      "cell_type": "code",
      "execution_count": 30,
      "metadata": {
        "colab": {
          "base_uri": "https://localhost:8080/"
        },
        "id": "e1sU8EY3t8b7",
        "outputId": "bf72a51c-adcf-4704-d090-affd19c0e1e2"
      },
      "outputs": [
        {
          "name": "stdout",
          "output_type": "stream",
          "text": [
            "              precision    recall  f1-score   support\n",
            "\n",
            "           0       0.00      0.00      0.00       838\n",
            "           1       0.50      1.00      0.67       837\n",
            "\n",
            "    accuracy                           0.50      1675\n",
            "   macro avg       0.25      0.50      0.33      1675\n",
            "weighted avg       0.25      0.50      0.33      1675\n",
            "\n"
          ]
        }
      ],
      "source": [
        "from sklearn.metrics import confusion_matrix , classification_report    #classification report provides precision, recall and f1-score\n",
        "print(classification_report(y_test,y_classes))"
      ]
    },
    {
      "cell_type": "code",
      "execution_count": 31,
      "metadata": {
        "colab": {
          "base_uri": "https://localhost:8080/",
          "height": 459
        },
        "id": "oALdcdD_uDIA",
        "outputId": "9759db6a-ef0e-4efb-dad9-50026e4aa096"
      },
      "outputs": [
        {
          "data": {
            "text/plain": [
              "Text(69.0, 0.5, 'Truth')"
            ]
          },
          "execution_count": 31,
          "metadata": {},
          "output_type": "execute_result"
        },
        {
          "data": {
            "image/png": "[encoded data removed]",
            "text/plain": [
              "<Figure size 720x504 with 2 Axes>"
            ]
          },
          "metadata": {
            "needs_background": "light"
          },
          "output_type": "display_data"
        }
      ],
      "source": [
        "import seaborn as sn                                                            #for better representation seaborn is used\n",
        "cm = tf.math.confusion_matrix(labels=y_test,predictions=y_classes)              #confusion matrix \n",
        "\n",
        "plt.figure(figsize = (10,7))\n",
        "sn.heatmap(cm, annot=True, fmt='d')\n",
        "plt.xlabel('Predicted')\n",
        "plt.ylabel('Truth')"
      ]
    },
    {
      "attachments": {},
      "cell_type": "markdown",
      "metadata": {},
      "source": [
        "## ROC plot of ANN"
      ]
    },
    {
      "cell_type": "code",
      "execution_count": 32,
      "metadata": {
        "id": "t4J6O9yhuFu1"
      },
      "outputs": [],
      "source": [
        "from sklearn.metrics import roc_curve, roc_auc_score        #plotting ROC Curve\n",
        "r_fpr, r_tpr, _ = roc_curve(y_test, y_classes)"
      ]
    },
    {
      "cell_type": "code",
      "execution_count": 33,
      "metadata": {
        "colab": {
          "base_uri": "https://localhost:8080/",
          "height": 282
        },
        "id": "DkRF1FYBuHo7",
        "outputId": "6e7fa21f-c501-4ac5-85fa-361e789ce103"
      },
      "outputs": [
        {
          "data": {
            "text/plain": [
              "[<matplotlib.lines.Line2D at 0x7fd7b0551d60>]"
            ]
          },
          "execution_count": 33,
          "metadata": {},
          "output_type": "execute_result"
        },
        {
          "data": {
            "image/png": "[encoded data removed]",
            "text/plain": [
              "<Figure size 432x288 with 1 Axes>"
            ]
          },
          "metadata": {
            "needs_background": "light"
          },
          "output_type": "display_data"
        }
      ],
      "source": [
        "import matplotlib.pyplot as plt\n",
        "plt.plot(r_fpr, r_tpr, linestyle='--')      "
      ]
    },
    {
      "cell_type": "code",
      "execution_count": 34,
      "metadata": {
        "colab": {
          "base_uri": "https://localhost:8080/"
        },
        "id": "WGlIVyNBxc1F",
        "outputId": "44a14029-98d0-4abc-e67a-edce0d2e9398"
      },
      "outputs": [
        {
          "data": {
            "text/plain": [
              "0.0"
            ]
          },
          "execution_count": 34,
          "metadata": {},
          "output_type": "execute_result"
        }
      ],
      "source": [
        "m = tf.keras.metrics.SpecificityAtSensitivity(0.5)      #sensitivity is zero\n",
        "m.update_state(y_test, y_pred)\n",
        "m.result().numpy()"
      ]
    },
    {
      "attachments": {},
      "cell_type": "markdown",
      "metadata": {},
      "source": [
        "## Conclusion : ANN is bad in image classification while CNN has 98% accuracy"
      ]
    }
  ],
  "metadata": {
    "accelerator": "GPU",
    "colab": {
      "machine_shape": "hm",
      "provenance": []
    },
    "gpuClass": "premium",
    "kernelspec": {
      "display_name": "Python 3",
      "name": "python3"
    },
    "language_info": {
      "codemirror_mode": {
        "name": "ipython",
        "version": 3
      },
      "file_extension": ".py",
      "mimetype": "text/x-python",
      "name": "python",
      "nbconvert_exporter": "python",
      "pygments_lexer": "ipython3",
      "version": "3.10.2"
    }
  },
  "nbformat": 4,
  "nbformat_minor": 0
}
