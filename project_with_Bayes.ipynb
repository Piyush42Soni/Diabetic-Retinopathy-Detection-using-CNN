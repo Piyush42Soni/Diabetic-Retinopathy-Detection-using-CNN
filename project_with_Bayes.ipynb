{
  "cells": [
    {
      "cell_type": "code",
      "execution_count": 2,
      "metadata": {
        "id": "OuPC_bJMS6Ff"
      },
      "outputs": [],
      "source": [
        "import tensorflow as tf                                     #import required libraries\n",
        "import os\n",
        "import matplotlib.pyplot as plt\n",
        "import numpy as np\n",
        "import logging\n",
        "import cv2\n",
        "from sklearn.preprocessing import StandardScaler"
      ]
    },
    {
      "attachments": {},
      "cell_type": "markdown",
      "metadata": {},
      "source": [
        "# Load Images and convert into NP Array"
      ]
    },
    {
      "cell_type": "code",
      "execution_count": 3,
      "metadata": {
        "colab": {
          "base_uri": "https://localhost:8080/"
        },
        "id": "vuxyK1oYTHqe",
        "outputId": "a67b424d-e176-46f1-d08d-79e44c56d927"
      },
      "outputs": [
        {
          "name": "stdout",
          "output_type": "stream",
          "text": [
            "** Path: SAUNAR\\01 No DR\\OD1473EY.JPG  **\r"
          ]
        },
        {
          "name": "stderr",
          "output_type": "stream",
          "text": [
            "C:\\Users\\dell ap\\AppData\\Local\\Temp\\ipykernel_30636\\3789750784.py:13: DeprecationWarning: ANTIALIAS is deprecated and will be removed in Pillow 10 (2023-07-01). Use LANCZOS or Resampling.LANCZOS instead.\n",
            "  im = im.resize((256,256),Image.ANTIALIAS)               #resize image to (256 X 256 pixels)\n"
          ]
        },
        {
          "name": "stdout",
          "output_type": "stream",
          "text": [
            "** Path: SAUNAR\\01 No DR\\OS2553EY.JPG  **  **\r"
          ]
        }
      ],
      "source": [
        "import os\n",
        "from PIL import Image\n",
        "folder_path =  r\"SAUNAR\"                                        # location of data folder\n",
        "y=[]    #output\n",
        "X=[]    #input\n",
        "c=0\n",
        "for fldr in os.listdir(folder_path):                            #open folder\n",
        "    sub_folder_path = os.path.join(folder_path, fldr)\n",
        "    for filee in os.listdir(sub_folder_path):                   #open subfolders\n",
        "        file_path = os.path.join(sub_folder_path, filee)\n",
        "        print('** Path: {}  **'.format(file_path), end=\"\\r\", flush=True)\n",
        "        im = Image.open(file_path)                              #open image\n",
        "        im = im.resize((256,256),Image.ANTIALIAS)               #resize image to (256 X 256 pixels)\n",
        "        rgb_im = im.convert('RGB')                              #convert format to RGB\n",
        "        array = np.array(tf.keras.utils.img_to_array(rgb_im))   #convert image to array\n",
        "        if(c==0 or c==1):\n",
        "            y.append(0)                                         #first and second subfolder contains data for no Diabetic retinopathy\n",
        "        else:\n",
        "            y.append(1)                                         #other contains data for Diabetic retinopathy eye\n",
        "        X.append((array)/255)\n",
        "    c+=1\n",
        "X=np.stack(X)                                                   #convert list to NP array\n",
        "y=np.stack(y)"
      ]
    },
    {
      "attachments": {},
      "cell_type": "markdown",
      "metadata": {},
      "source": [
        "## Oversampling using SMOTE\n",
        "#### Oversampling is an process of Duplicating samples from the minority class till it becomes equal to majority class\n",
        "#### SMOTE is an technique for oversampling in which we use K nearest neighbour method for oversampling\n",
        "#### In our example we have 703 images of presence of Diabetic retinopathy and 3727 images of not present"
      ]
    },
    {
      "cell_type": "code",
      "execution_count": 3,
      "metadata": {
        "id": "s-bLseJyuN31"
      },
      "outputs": [],
      "source": [
        "dataForSmote = X.reshape(X.shape[0],X.shape[1]*X.shape[2]*X.shape[3])   # Convert data shape from 4D to 2D \n",
        "scaler = StandardScaler(with_mean=False,with_std=False)                 # Data scaling (mean ==0 and var==1)\n",
        "dataForSmote = scaler.fit_transform(dataForSmote)                       \n",
        "from imblearn.over_sampling import SMOTE\n",
        "smote = SMOTE(sampling_strategy='minority')                             #oversample minority data (y==1)\n",
        "oversample = SMOTE()\n",
        "X_sm, y_sm = smote.fit_resample(dataForSmote, y)\n",
        "X_sm = X_sm.reshape(X_sm.shape[0],X.shape[1],X.shape[2],X.shape[3])     #again reshape data in its original form"
      ]
    },
    {
      "cell_type": "code",
      "execution_count": null,
      "metadata": {
        "colab": {
          "base_uri": "https://localhost:8080/"
        },
        "id": "u4eHWHgH6j0C",
        "outputId": "008eb987-4bf3-4dab-e9ba-f626b87ed7a7"
      },
      "outputs": [
        {
          "name": "stdout",
          "output_type": "stream",
          "text": [
            "0.22360052\n",
            "4186\n",
            "4430\n",
            "(4430, 256, 256, 3)\n"
          ]
        },
        {
          "data": {
            "text/plain": [
              "(4430,)"
            ]
          },
          "execution_count": 46,
          "metadata": {},
          "output_type": "execute_result"
        }
      ],
      "source": [
        "print((X[0]).mean())                                                    \n",
        "print(np.count_nonzero(y))\n",
        "print(np.size(y))\n",
        "print(X.shape)\n",
        "y.shape"
      ]
    },
    {
      "cell_type": "code",
      "execution_count": 13,
      "metadata": {
        "id": "cqIZZ9zb6j0C"
      },
      "outputs": [],
      "source": [
        "data_augmentation = tf.keras.Sequential([                             #Data Augmentation for better accuracy\n",
        "  tf.keras.layers.RandomFlip(\"horizontal\"),                           #horizontally flips data\n",
        "  tf.keras.layers.RandomRotation(0.2),                                #randomly rotates 20% of training data\n",
        "])"
      ]
    },
    {
      "cell_type": "code",
      "execution_count": 4,
      "metadata": {
        "colab": {
          "base_uri": "https://localhost:8080/"
        },
        "id": "GvBKNSRW6j0C",
        "outputId": "8bcf1a23-47ed-4789-f49e-79712f3e638d"
      },
      "outputs": [
        {
          "data": {
            "text/plain": [
              "(5963, 256, 256, 3)"
            ]
          },
          "execution_count": 4,
          "metadata": {},
          "output_type": "execute_result"
        }
      ],
      "source": [
        "from sklearn.model_selection import train_test_split                #splitting data into training and testing in ratio 8:2\n",
        "X_train, X_test, y_train, y_test = train_test_split(X_sm, y_sm, test_size=0.2, random_state=15, stratify=y_sm)\n",
        "X_train.shape"
      ]
    },
    {
      "cell_type": "code",
      "execution_count": null,
      "metadata": {
        "colab": {
          "base_uri": "https://localhost:8080/"
        },
        "id": "8wnJtJXQRBxi",
        "outputId": "f1ed1fcb-c066-45c0-a3fb-b385524d5078"
      },
      "outputs": [
        {
          "name": "stdout",
          "output_type": "stream",
          "text": [
            "(6697, 256, 256, 3)\n",
            "3349\n"
          ]
        }
      ],
      "source": [
        "print(X_train.shape)\n",
        "print(np.count_nonzero(y_train))"
      ]
    },
    {
      "attachments": {},
      "cell_type": "markdown",
      "metadata": {},
      "source": [
        "## Creating and Training the CNN Model\n",
        "#### i have used 3 layer CNN model because CNN is the best image classifier model"
      ]
    },
    {
      "cell_type": "code",
      "execution_count": null,
      "metadata": {
        "id": "pl49ws4Z6j0D"
      },
      "outputs": [],
      "source": [
        "import tensorflow as tf\n",
        "initializer=tf.random_normal_initializer(mean=0.0, stddev=0.0, seed=None)       #implimenting normal initializer\n",
        "cnn= tf.keras.models.Sequential([\n",
        "    data_augmentation,\n",
        "    tf.keras.layers.Conv2D(filters=32, kernel_size=(3, 3), activation='relu', input_shape=(256, 256, 3)),   #1st convolution layer\n",
        "    tf.keras.layers.MaxPooling2D((2, 2)),\n",
        "    \n",
        "    tf.keras.layers.Conv2D(filters=64, kernel_size=(3, 3), activation='relu'),                              #2ed convolution layer\n",
        "    tf.keras.layers.MaxPooling2D((2, 2)),\n",
        "    \n",
        "    tf.keras.layers.Conv2D(filters=128, kernel_size=(3, 3), activation='relu'),                             #3rd convolution layer\n",
        "    tf.keras.layers.MaxPooling2D((2, 2)), \n",
        "\n",
        "    tf.keras.layers.Flatten(),\n",
        "    tf.keras.layers.Dense(640, activation='relu'),                                                          #ANN layer\n",
        "    tf.keras.layers.Dropout(0.5),                                                                           #Dropout for preventing overfitting\n",
        "    tf.keras.layers.Dense(1, activation='sigmoid')                                                          #sigmoid activation function for binary classification\n",
        "])"
      ]
    },
    {
      "cell_type": "code",
      "execution_count": null,
      "metadata": {
        "id": "k5W3xUz06j0D"
      },
      "outputs": [],
      "source": [
        "cnn.compile(optimizer='adam',           #adam optimization technique is used here \n",
        "              loss='BinaryCrossentropy',    #Binary Crossentropy as loss function\n",
        "              metrics=['accuracy'])         #accuracy is the metrics for model"
      ]
    },
    {
      "cell_type": "code",
      "execution_count": null,
      "metadata": {
        "colab": {
          "base_uri": "https://localhost:8080/"
        },
        "id": "y5hXXABs6j0D",
        "outputId": "aefbde9d-226a-4a09-8c4d-3b726de926d6"
      },
      "outputs": [
        {
          "name": "stdout",
          "output_type": "stream",
          "text": [
            "Epoch 1/30\n",
            "210/210 [==============================] - 6s 19ms/step - loss: 0.7422 - accuracy: 0.5025\n",
            "Epoch 2/30\n",
            "210/210 [==============================] - 4s 18ms/step - loss: 0.6931 - accuracy: 0.5110\n",
            "Epoch 3/30\n",
            "210/210 [==============================] - 4s 18ms/step - loss: 0.6922 - accuracy: 0.5126\n",
            "Epoch 4/30\n",
            "210/210 [==============================] - 4s 18ms/step - loss: 0.6906 - accuracy: 0.5198\n",
            "Epoch 5/30\n",
            "210/210 [==============================] - 4s 18ms/step - loss: 0.6911 - accuracy: 0.5169\n",
            "Epoch 6/30\n",
            "210/210 [==============================] - 4s 18ms/step - loss: 0.6679 - accuracy: 0.5804\n",
            "Epoch 7/30\n",
            "210/210 [==============================] - 4s 18ms/step - loss: 0.6411 - accuracy: 0.5952\n",
            "Epoch 8/30\n",
            "210/210 [==============================] - 4s 18ms/step - loss: 0.5889 - accuracy: 0.6676\n",
            "Epoch 9/30\n",
            "210/210 [==============================] - 4s 18ms/step - loss: 0.5387 - accuracy: 0.7111\n",
            "Epoch 10/30\n",
            "210/210 [==============================] - 4s 18ms/step - loss: 0.5038 - accuracy: 0.7433\n",
            "Epoch 11/30\n",
            "210/210 [==============================] - 4s 18ms/step - loss: 0.3806 - accuracy: 0.8237\n",
            "Epoch 12/30\n",
            "210/210 [==============================] - 4s 18ms/step - loss: 0.2847 - accuracy: 0.8841\n",
            "Epoch 13/30\n",
            "210/210 [==============================] - 4s 18ms/step - loss: 0.1805 - accuracy: 0.9277\n",
            "Epoch 14/30\n",
            "210/210 [==============================] - 4s 18ms/step - loss: 0.1157 - accuracy: 0.9591\n",
            "Epoch 15/30\n",
            "210/210 [==============================] - 4s 18ms/step - loss: 0.0746 - accuracy: 0.9721\n",
            "Epoch 16/30\n",
            "210/210 [==============================] - 4s 18ms/step - loss: 0.0470 - accuracy: 0.9839\n",
            "Epoch 17/30\n",
            "210/210 [==============================] - 4s 18ms/step - loss: 0.0298 - accuracy: 0.9912\n",
            "Epoch 18/30\n",
            "210/210 [==============================] - 4s 18ms/step - loss: 0.0115 - accuracy: 0.9973\n",
            "Epoch 19/30\n",
            "210/210 [==============================] - 4s 18ms/step - loss: 0.0263 - accuracy: 0.9906\n",
            "Epoch 20/30\n",
            "210/210 [==============================] - 4s 18ms/step - loss: 0.0233 - accuracy: 0.9925\n",
            "Epoch 21/30\n",
            "210/210 [==============================] - 4s 18ms/step - loss: 0.0223 - accuracy: 0.9933\n",
            "Epoch 22/30\n",
            "210/210 [==============================] - 4s 18ms/step - loss: 0.0272 - accuracy: 0.9910\n",
            "Epoch 23/30\n",
            "210/210 [==============================] - 4s 18ms/step - loss: 0.0131 - accuracy: 0.9957\n",
            "Epoch 24/30\n",
            "210/210 [==============================] - 4s 18ms/step - loss: 0.0145 - accuracy: 0.9960\n",
            "Epoch 25/30\n",
            "210/210 [==============================] - 4s 18ms/step - loss: 0.0135 - accuracy: 0.9954\n",
            "Epoch 26/30\n",
            "210/210 [==============================] - 4s 18ms/step - loss: 0.0071 - accuracy: 0.9976\n",
            "Epoch 27/30\n",
            "210/210 [==============================] - 4s 18ms/step - loss: 0.0134 - accuracy: 0.9955\n",
            "Epoch 28/30\n",
            "210/210 [==============================] - 4s 18ms/step - loss: 0.0154 - accuracy: 0.9946\n",
            "Epoch 29/30\n",
            "210/210 [==============================] - 4s 18ms/step - loss: 0.0029 - accuracy: 0.9993\n",
            "Epoch 30/30\n",
            "210/210 [==============================] - 4s 18ms/step - loss: 0.0034 - accuracy: 0.9988\n"
          ]
        },
        {
          "data": {
            "text/plain": [
              "<keras.callbacks.History at 0x7fd5d63ced90>"
            ]
          },
          "execution_count": 53,
          "metadata": {},
          "output_type": "execute_result"
        }
      ],
      "source": [
        "cnn.fit(X_train, y_train, epochs=30)        #fitting the training data into the model"
      ]
    },
    {
      "attachments": {},
      "cell_type": "markdown",
      "metadata": {},
      "source": [
        "## Model Evaluation (average of 10 trials)\n",
        "##### average accuracy on test data is 98.04%\n",
        "##### f1 score of 0.985\n",
        "##### precision for output 1 is 1.00\n",
        "##### precision for output 0 is 0.97\n",
        "##### recall for output 0 is 1.00\n",
        "##### recall for output 1 is 0.97\n",
        "##### sensitivity is 1"
      ]
    },
    {
      "cell_type": "code",
      "execution_count": null,
      "metadata": {
        "colab": {
          "base_uri": "https://localhost:8080/"
        },
        "id": "P2U_b0NG6j0E",
        "outputId": "84a137ca-e0d2-4ad2-b650-94eb01736271"
      },
      "outputs": [
        {
          "name": "stdout",
          "output_type": "stream",
          "text": [
            "53/53 [==============================] - 1s 11ms/step - loss: 0.0477 - accuracy: 0.9904\n"
          ]
        },
        {
          "data": {
            "text/plain": [
              "[0.04769621789455414, 0.9904477596282959]"
            ]
          },
          "execution_count": 54,
          "metadata": {},
          "output_type": "execute_result"
        }
      ],
      "source": [
        "cnn.evaluate(X_test,y_test)         #99.04% accuracy on test data"
      ]
    },
    {
      "cell_type": "code",
      "execution_count": null,
      "metadata": {
        "colab": {
          "base_uri": "https://localhost:8080/"
        },
        "id": "ezoGz8tFaXXY",
        "outputId": "bcee3f5e-c293-4f5e-dcf5-0e752365cdc9"
      },
      "outputs": [
        {
          "name": "stdout",
          "output_type": "stream",
          "text": [
            "53/53 [==============================] - 1s 9ms/step\n"
          ]
        },
        {
          "data": {
            "text/plain": [
              "array([[1.0000000e+00],\n",
              "       [2.3635989e-08],\n",
              "       [9.9999988e-01],\n",
              "       [9.9999952e-01],\n",
              "       [1.8048418e-08]], dtype=float32)"
            ]
          },
          "execution_count": 55,
          "metadata": {},
          "output_type": "execute_result"
        }
      ],
      "source": [
        "y_pred = cnn.predict(X_test)        #generates predicted output\n",
        "y_pred[:5]"
      ]
    },
    {
      "cell_type": "code",
      "execution_count": null,
      "metadata": {
        "colab": {
          "base_uri": "https://localhost:8080/"
        },
        "id": "5P6_NtsG6j0F",
        "outputId": "0fcbddd6-64d4-4783-f6a7-e3f5de9b1298"
      },
      "outputs": [
        {
          "data": {
            "text/plain": [
              "array([1., 0., 1., ..., 0., 0., 0.], dtype=float32)"
            ]
          },
          "execution_count": 56,
          "metadata": {},
          "output_type": "execute_result"
        }
      ],
      "source": [
        "y_classes =np.round(y_pred)     #round off predictions to 0 and 1\n",
        "y_classes[:5]\n",
        "y_classes.flatten()"
      ]
    },
    {
      "cell_type": "code",
      "execution_count": null,
      "metadata": {
        "colab": {
          "base_uri": "https://localhost:8080/"
        },
        "id": "38Zv38EM6j0F",
        "outputId": "dec2fa8f-d2fa-49ff-e379-e9b6faad0dc3"
      },
      "outputs": [
        {
          "data": {
            "text/plain": [
              "array([1, 0, 1, 1, 0])"
            ]
          },
          "execution_count": 57,
          "metadata": {},
          "output_type": "execute_result"
        }
      ],
      "source": [
        "y_test[:5]"
      ]
    },
    {
      "cell_type": "code",
      "execution_count": null,
      "metadata": {
        "colab": {
          "base_uri": "https://localhost:8080/",
          "height": 174
        },
        "id": "c9IYDRMz63p4",
        "outputId": "c42abe3c-babc-4978-b44d-5d8676fa6a79"
      },
      "outputs": [
        {
          "data": {
            "image/png": "[encoded data removed]",
            "text/plain": [
              "<Figure size 1080x144 with 1 Axes>"
            ]
          },
          "metadata": {
            "needs_background": "light"
          },
          "output_type": "display_data"
        }
      ],
      "source": [
        "def plot_sample(X, y, index):\n",
        "    plt.figure(figsize = (15,2))\n",
        "    plt.imshow(X[index])\n",
        "    plt.xlabel(y[index])\n",
        "plot_sample(X_test, y_test,3)   #plots test data with index 3 "
      ]
    },
    {
      "cell_type": "code",
      "execution_count": null,
      "metadata": {
        "colab": {
          "base_uri": "https://localhost:8080/"
        },
        "id": "MVtKOA896j0G",
        "outputId": "231a731d-2d66-48b0-a689-b40de5545fe4"
      },
      "outputs": [
        {
          "name": "stdout",
          "output_type": "stream",
          "text": [
            "              precision    recall  f1-score   support\n",
            "\n",
            "           0       0.98      1.00      0.99       838\n",
            "           1       1.00      0.98      0.99       837\n",
            "\n",
            "    accuracy                           0.99      1675\n",
            "   macro avg       0.99      0.99      0.99      1675\n",
            "weighted avg       0.99      0.99      0.99      1675\n",
            "\n"
          ]
        }
      ],
      "source": [
        "from sklearn.metrics import confusion_matrix , classification_report    #classification report provides precision, recall and f1-score\n",
        "print(classification_report(y_test,y_classes))"
      ]
    },
    {
      "cell_type": "code",
      "execution_count": null,
      "metadata": {
        "colab": {
          "base_uri": "https://localhost:8080/",
          "height": 459
        },
        "id": "eyM-RWN-6j0G",
        "outputId": "4fd179b8-fc52-4e46-b1d0-3d6cfe3ee032"
      },
      "outputs": [
        {
          "data": {
            "text/plain": [
              "Text(69.0, 0.5, 'Truth')"
            ]
          },
          "execution_count": 60,
          "metadata": {},
          "output_type": "execute_result"
        },
        {
          "data": {
            "image/png": "[encoded data removed]",
            "text/plain": [
              "<Figure size 720x504 with 2 Axes>"
            ]
          },
          "metadata": {
            "needs_background": "light"
          },
          "output_type": "display_data"
        }
      ],
      "source": [
        "import seaborn as sn\n",
        "cm = tf.math.confusion_matrix(labels=y_test,predictions=y_classes)              #confusion matrix for better representation seaborn is used\n",
        "\n",
        "plt.figure(figsize = (10,7))\n",
        "sn.heatmap(cm, annot=True, fmt='d')\n",
        "plt.xlabel('Predicted')\n",
        "plt.ylabel('Truth')"
      ]
    },
    {
      "attachments": {},
      "cell_type": "markdown",
      "metadata": {},
      "source": [
        "## ROC curve"
      ]
    },
    {
      "cell_type": "code",
      "execution_count": null,
      "metadata": {
        "id": "FwsgpyZ8jOhe"
      },
      "outputs": [],
      "source": [
        "from sklearn.metrics import roc_curve, roc_auc_score        #plotting ROC Curve\n",
        "r_fpr, r_tpr, _ = roc_curve(y_test, y_classes)"
      ]
    },
    {
      "cell_type": "code",
      "execution_count": null,
      "metadata": {
        "colab": {
          "base_uri": "https://localhost:8080/",
          "height": 282
        },
        "id": "CYR2_kLikFPM",
        "outputId": "718360e3-7664-4bbf-eeeb-f044384f8d45"
      },
      "outputs": [
        {
          "data": {
            "text/plain": [
              "[<matplotlib.lines.Line2D at 0x7fd3d75512b0>]"
            ]
          },
          "execution_count": 66,
          "metadata": {},
          "output_type": "execute_result"
        },
        {
          "data": {
            "image/png": "[encoded data removed]",
            "text/plain": [
              "<Figure size 432x288 with 1 Axes>"
            ]
          },
          "metadata": {
            "needs_background": "light"
          },
          "output_type": "display_data"
        }
      ],
      "source": [
        "import matplotlib.pyplot as plt\n",
        "plt.plot(r_fpr, r_tpr, linestyle='--')"
      ]
    },
    {
      "cell_type": "code",
      "execution_count": null,
      "metadata": {
        "colab": {
          "base_uri": "https://localhost:8080/"
        },
        "id": "Xu5GDx3AlAEy",
        "outputId": "cf7a04db-3363-4096-c76c-1b1bc5fe1d26"
      },
      "outputs": [
        {
          "data": {
            "text/plain": [
              "1.0"
            ]
          },
          "execution_count": 67,
          "metadata": {},
          "output_type": "execute_result"
        }
      ],
      "source": [
        "m = tf.keras.metrics.SpecificityAtSensitivity(0.5)      #sensitivity is one\n",
        "m.update_state(y_test, y_pred)\n",
        "m.result().numpy()"
      ]
    },
    {
      "attachments": {},
      "cell_type": "markdown",
      "metadata": {},
      "source": [
        "## Creating and Training the BernoulliNB Model"
      ]
    },
    {
      "cell_type": "code",
      "execution_count": 49,
      "metadata": {},
      "outputs": [
        {
          "data": {
            "text/html": [
              "<style>#sk-container-id-1 {color: black;background-color: white;}#sk-container-id-1 pre{padding: 0;}#sk-container-id-1 div.sk-toggleable {background-color: white;}#sk-container-id-1 label.sk-toggleable__label {cursor: pointer;display: block;width: 100%;margin-bottom: 0;padding: 0.3em;box-sizing: border-box;text-align: center;}#sk-container-id-1 label.sk-toggleable__label-arrow:before {content: \"▸\";float: left;margin-right: 0.25em;color: #696969;}#sk-container-id-1 label.sk-toggleable__label-arrow:hover:before {color: black;}#sk-container-id-1 div.sk-estimator:hover label.sk-toggleable__label-arrow:before {color: black;}#sk-container-id-1 div.sk-toggleable__content {max-height: 0;max-width: 0;overflow: hidden;text-align: left;background-color: #f0f8ff;}#sk-container-id-1 div.sk-toggleable__content pre {margin: 0.2em;color: black;border-radius: 0.25em;background-color: #f0f8ff;}#sk-container-id-1 input.sk-toggleable__control:checked~div.sk-toggleable__content {max-height: 200px;max-width: 100%;overflow: auto;}#sk-container-id-1 input.sk-toggleable__control:checked~label.sk-toggleable__label-arrow:before {content: \"▾\";}#sk-container-id-1 div.sk-estimator input.sk-toggleable__control:checked~label.sk-toggleable__label {background-color: #d4ebff;}#sk-container-id-1 div.sk-label input.sk-toggleable__control:checked~label.sk-toggleable__label {background-color: #d4ebff;}#sk-container-id-1 input.sk-hidden--visually {border: 0;clip: rect(1px 1px 1px 1px);clip: rect(1px, 1px, 1px, 1px);height: 1px;margin: -1px;overflow: hidden;padding: 0;position: absolute;width: 1px;}#sk-container-id-1 div.sk-estimator {font-family: monospace;background-color: #f0f8ff;border: 1px dotted black;border-radius: 0.25em;box-sizing: border-box;margin-bottom: 0.5em;}#sk-container-id-1 div.sk-estimator:hover {background-color: #d4ebff;}#sk-container-id-1 div.sk-parallel-item::after {content: \"\";width: 100%;border-bottom: 1px solid gray;flex-grow: 1;}#sk-container-id-1 div.sk-label:hover label.sk-toggleable__label {background-color: #d4ebff;}#sk-container-id-1 div.sk-serial::before {content: \"\";position: absolute;border-left: 1px solid gray;box-sizing: border-box;top: 0;bottom: 0;left: 50%;z-index: 0;}#sk-container-id-1 div.sk-serial {display: flex;flex-direction: column;align-items: center;background-color: white;padding-right: 0.2em;padding-left: 0.2em;position: relative;}#sk-container-id-1 div.sk-item {position: relative;z-index: 1;}#sk-container-id-1 div.sk-parallel {display: flex;align-items: stretch;justify-content: center;background-color: white;position: relative;}#sk-container-id-1 div.sk-item::before, #sk-container-id-1 div.sk-parallel-item::before {content: \"\";position: absolute;border-left: 1px solid gray;box-sizing: border-box;top: 0;bottom: 0;left: 50%;z-index: -1;}#sk-container-id-1 div.sk-parallel-item {display: flex;flex-direction: column;z-index: 1;position: relative;background-color: white;}#sk-container-id-1 div.sk-parallel-item:first-child::after {align-self: flex-end;width: 50%;}#sk-container-id-1 div.sk-parallel-item:last-child::after {align-self: flex-start;width: 50%;}#sk-container-id-1 div.sk-parallel-item:only-child::after {width: 0;}#sk-container-id-1 div.sk-dashed-wrapped {border: 1px dashed gray;margin: 0 0.4em 0.5em 0.4em;box-sizing: border-box;padding-bottom: 0.4em;background-color: white;}#sk-container-id-1 div.sk-label label {font-family: monospace;font-weight: bold;display: inline-block;line-height: 1.2em;}#sk-container-id-1 div.sk-label-container {text-align: center;}#sk-container-id-1 div.sk-container {/* jupyter's `normalize.less` sets `[hidden] { display: none; }` but bootstrap.min.css set `[hidden] { display: none !important; }` so we also need the `!important` here to be able to override the default hidden behavior on the sphinx rendered scikit-learn.org. See: https://github.com/scikit-learn/scikit-learn/issues/21755 */display: inline-block !important;position: relative;}#sk-container-id-1 div.sk-text-repr-fallback {display: none;}</style><div id=\"sk-container-id-1\" class=\"sk-top-container\"><div class=\"sk-text-repr-fallback\"><pre>Pipeline(steps=[(&#x27;scaler&#x27;, StandardScaler()), (&#x27;model&#x27;, BernoulliNB())])</pre><b>In a Jupyter environment, please rerun this cell to show the HTML representation or trust the notebook. <br />On GitHub, the HTML representation is unable to render, please try loading this page with nbviewer.org.</b></div><div class=\"sk-container\" hidden><div class=\"sk-item sk-dashed-wrapped\"><div class=\"sk-label-container\"><div class=\"sk-label sk-toggleable\"><input class=\"sk-toggleable__control sk-hidden--visually\" id=\"sk-estimator-id-1\" type=\"checkbox\" ><label for=\"sk-estimator-id-1\" class=\"sk-toggleable__label sk-toggleable__label-arrow\">Pipeline</label><div class=\"sk-toggleable__content\"><pre>Pipeline(steps=[(&#x27;scaler&#x27;, StandardScaler()), (&#x27;model&#x27;, BernoulliNB())])</pre></div></div></div><div class=\"sk-serial\"><div class=\"sk-item\"><div class=\"sk-estimator sk-toggleable\"><input class=\"sk-toggleable__control sk-hidden--visually\" id=\"sk-estimator-id-2\" type=\"checkbox\" ><label for=\"sk-estimator-id-2\" class=\"sk-toggleable__label sk-toggleable__label-arrow\">StandardScaler</label><div class=\"sk-toggleable__content\"><pre>StandardScaler()</pre></div></div></div><div class=\"sk-item\"><div class=\"sk-estimator sk-toggleable\"><input class=\"sk-toggleable__control sk-hidden--visually\" id=\"sk-estimator-id-3\" type=\"checkbox\" ><label for=\"sk-estimator-id-3\" class=\"sk-toggleable__label sk-toggleable__label-arrow\">BernoulliNB</label><div class=\"sk-toggleable__content\"><pre>BernoulliNB()</pre></div></div></div></div></div></div></div>"
            ],
            "text/plain": [
              "Pipeline(steps=[('scaler', StandardScaler()), ('model', BernoulliNB())])"
            ]
          },
          "execution_count": 49,
          "metadata": {},
          "output_type": "execute_result"
        }
      ],
      "source": [
        "from sklearn.naive_bayes import BernoulliNB         #Naive Bayes classifier for multivariate Bernoulli models.\n",
        "from sklearn.pipeline import Pipeline               #Pipeline of transforms with a final estimator.\n",
        "model = BernoulliNB()\n",
        "pipe = Pipeline(steps =[\n",
        "                        ('scaler', StandardScaler()),\n",
        "                        ('model',model)\n",
        "                    ])\n",
        "X_train_flat=X_train.reshape(X_train.shape[0],X_train.shape[1]*X_train.shape[2]*X_train.shape[3])   #reshaping to 2d array\n",
        "pipe.fit(X_train_flat, y_train)\n"
      ]
    },
    {
      "attachments": {},
      "cell_type": "markdown",
      "metadata": {},
      "source": [
        "## Model Evaluation (average of 10 trials)\n",
        "##### average accuracy on test data is 58%\n",
        "##### f1 score of 0.57\n",
        "##### precision for output 1 is 0.57\n",
        "##### precision for output 0 is 0.57\n",
        "##### recall for output 0 is 0.55\n",
        "##### recall for output 1 is 0.56"
      ]
    },
    {
      "cell_type": "code",
      "execution_count": 52,
      "metadata": {},
      "outputs": [],
      "source": [
        "X_test_flat=X_test.reshape(X_test.shape[0],X_train.shape[1]*X_train.shape[2]*X_train.shape[3])  #prediction\n",
        "y_pred=pipe.predict(X_test_flat)\n"
      ]
    },
    {
      "cell_type": "code",
      "execution_count": 53,
      "metadata": {},
      "outputs": [
        {
          "data": {
            "text/plain": [
              "array([1, 1, 1, ..., 1, 1, 0])"
            ]
          },
          "execution_count": 53,
          "metadata": {},
          "output_type": "execute_result"
        }
      ],
      "source": [
        "y_pred"
      ]
    },
    {
      "cell_type": "code",
      "execution_count": 54,
      "metadata": {},
      "outputs": [
        {
          "name": "stdout",
          "output_type": "stream",
          "text": [
            "              precision    recall  f1-score   support\n",
            "\n",
            "           0       0.58      0.55      0.57       746\n",
            "           1       0.57      0.60      0.59       745\n",
            "\n",
            "    accuracy                           0.58      1491\n",
            "   macro avg       0.58      0.58      0.58      1491\n",
            "weighted avg       0.58      0.58      0.58      1491\n",
            "\n"
          ]
        }
      ],
      "source": [
        "from sklearn.metrics import confusion_matrix , classification_report    #classification report provides precision, recall and f1-score\n",
        "print(classification_report(y_test,y_pred))"
      ]
    },
    {
      "attachments": {},
      "cell_type": "markdown",
      "metadata": {},
      "source": [
        "## ROC Curve"
      ]
    },
    {
      "cell_type": "code",
      "execution_count": 56,
      "metadata": {},
      "outputs": [
        {
          "data": {
            "text/plain": [
              "[<matplotlib.lines.Line2D at 0x2bcf0947700>]"
            ]
          },
          "execution_count": 56,
          "metadata": {},
          "output_type": "execute_result"
        },
        {
          "data": {
            "image/png": "[encoded data removed]",
            "text/plain": [
              "<Figure size 432x288 with 1 Axes>"
            ]
          },
          "metadata": {
            "needs_background": "light"
          },
          "output_type": "display_data"
        }
      ],
      "source": [
        "from sklearn.metrics import roc_curve, roc_auc_score        #plotting ROC Curve\n",
        "r_fpr, r_tpr, _ = roc_curve(y_test, y_pred)\n",
        "import matplotlib.pyplot as plt\n",
        "plt.plot(r_fpr, r_tpr, linestyle='--')"
      ]
    },
    {
      "attachments": {},
      "cell_type": "markdown",
      "metadata": {},
      "source": []
    }
  ],
  "metadata": {
    "accelerator": "GPU",
    "colab": {
      "machine_shape": "hm",
      "provenance": []
    },
    "gpuClass": "premium",
    "kernelspec": {
      "display_name": "Python 3",
      "name": "python3"
    },
    "language_info": {
      "codemirror_mode": {
        "name": "ipython",
        "version": 3
      },
      "file_extension": ".py",
      "mimetype": "text/x-python",
      "name": "python",
      "nbconvert_exporter": "python",
      "pygments_lexer": "ipython3",
      "version": "3.10.2"
    }
  },
  "nbformat": 4,
  "nbformat_minor": 0
}
